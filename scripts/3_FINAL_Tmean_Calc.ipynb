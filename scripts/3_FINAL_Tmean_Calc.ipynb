{
 "cells": [
  {
   "cell_type": "code",
   "execution_count": null,
   "id": "dea57754-805d-44d6-9f33-678e7ee69512",
   "metadata": {
    "scrolled": true
   },
   "outputs": [],
   "source": [
    "import os\n",
    "import pandas as pd\n",
    "from tqdm import tqdm\n",
    "from joblib import Parallel, delayed\n",
    "\n",
    "# Set base path and parameters\n",
    "weather_base = r\"# path to weather data directory\"\n",
    "years_to_process = range(1980, 2020)\n",
    "n_jobs = 12\n",
    "\n",
    "def process_file(fpath):\n",
    "    fname = os.path.basename(fpath)\n",
    "    try:\n",
    "        df = pd.read_parquet(fpath, engine='pyarrow')\n",
    "        if 'tmin' in df.columns and 'tmax' in df.columns:\n",
    "            df['tmean'] = (df['tmin'] + df['tmax']) / 2\n",
    "            df.to_parquet(fpath, index=False, engine='pyarrow')\n",
    "            return f\"{fname} — tmean added\"\n",
    "        else:\n",
    "            return f\"{fname} — missing tmin or tmax\"\n",
    "    except Exception as e:\n",
    "        return f\"{fname} — error: {e}\"\n",
    "\n",
    "for year in tqdm(years_to_process, desc=\"Processing years\"):\n",
    "    year_dir = os.path.join(weather_base, f\"year={year}\")\n",
    "    if not os.path.exists(year_dir):\n",
    "        print(f\"Skipping {year}: folder not found.\")\n",
    "        continue\n",
    "\n",
    "    all_files = sorted([\n",
    "        os.path.join(year_dir, f) for f in os.listdir(year_dir) if f.endswith(\".parquet\")\n",
    "    ])\n",
    "    print(f\"Year {year}: {len(all_files)} files found\")\n",
    "\n",
    "    results = Parallel(n_jobs=n_jobs)(\n",
    "        delayed(process_file)(f) for f in tqdm(all_files, desc=f\"Adding tmean\", leave=False)\n",
    "    )\n",
    "\n",
    "    print(f\"\\nSummary for {year}:\")\n",
    "    for r in results:\n",
    "        print(r)"
   ]
  }
 ],
 "metadata": {
  "kernelspec": {
   "display_name": "Python (geo_env)",
   "language": "python",
   "name": "geo_env"
  },
  "language_info": {
   "codemirror_mode": {
    "name": "ipython",
    "version": 3
   },
   "file_extension": ".py",
   "mimetype": "text/x-python",
   "name": "python",
   "nbconvert_exporter": "python",
   "pygments_lexer": "ipython3",
   "version": "3.10.17"
  }
 },
 "nbformat": 4,
 "nbformat_minor": 5
}
