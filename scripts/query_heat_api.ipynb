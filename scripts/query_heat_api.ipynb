{
 "cells": [
  {
   "cell_type": "code",
   "execution_count": 1,
   "id": "780aa18b-298a-42f1-b07f-210d76b90c53",
   "metadata": {},
   "outputs": [
    {
     "name": "stdout",
     "output_type": "stream",
     "text": [
      "Status Code: 200\n",
      "Response JSON:\n",
      "{'source_file': 'year=1990/1990-05-01.parquet', 'matched_row': {'lat': 25.999971200589858, 'lon': -97.40234961378341, 'tileID': 10302, 'day': None, 'heat_index_min_c': None, 'heat_index_max_c': 32.96096201630638, 'heat_index_mean_c': None, 'wbgt_liljegren_min': 24.983215096435174, 'wbgt_liljegren_mean': 25.88430158236514, 'wbgt_liljegren_max': 26.858142331547526}}\n"
     ]
    }
   ],
   "source": [
    "\"\"\"\n",
    "query_heat_api.py\n",
    "\n",
    "This script demonstrates how to query the public Heat Stress API\n",
    "and retrieve daily heat stress data for a specific geographic location and date.\n",
    "\n",
    "API URL:\n",
    "    https://heat-api-public-612792994315.us-central1.run.app/query\n",
    "\n",
    "Example usage:\n",
    "    python query_heat_api.py\n",
    "\"\"\"\n",
    "\n",
    "import requests\n",
    "\n",
    "# Define the base API endpoint\n",
    "url = \"https://heat-api-public-612792994315.us-central1.run.app/query\"\n",
    "\n",
    "# Specify the query parameters\n",
    "# Currently API data only available for 1990 summer months (May-September)\n",
    "params = {\n",
    "    \"year\": 1990,\n",
    "    \"date\": \"1990-05-01\",\n",
    "    \"lat\": 26.0,\n",
    "    \"lon\": -97.4\n",
    "}\n",
    "\n",
    "# Send the GET request\n",
    "response = requests.get(url, params=params)\n",
    "\n",
    "# Print the result\n",
    "print(\"Status Code:\", response.status_code)\n",
    "\n",
    "try:\n",
    "    data = response.json()\n",
    "    print(\"Response JSON:\")\n",
    "    print(data)\n",
    "except Exception as e:\n",
    "    print(\"Could not parse JSON. Raw response:\")\n",
    "    print(response.text)"
   ]
  }
 ],
 "metadata": {
  "kernelspec": {
   "display_name": "Python [conda env:base] *",
   "language": "python",
   "name": "conda-base-py"
  },
  "language_info": {
   "codemirror_mode": {
    "name": "ipython",
    "version": 3
   },
   "file_extension": ".py",
   "mimetype": "text/x-python",
   "name": "python",
   "nbconvert_exporter": "python",
   "pygments_lexer": "ipython3",
   "version": "3.11.5"
  }
 },
 "nbformat": 4,
 "nbformat_minor": 5
}
